{
 "cells": [
  {
   "cell_type": "code",
   "execution_count": 1,
   "metadata": {},
   "outputs": [],
   "source": [
    "#%matplotlib notebook"
   ]
  },
  {
   "cell_type": "code",
   "execution_count": 2,
   "metadata": {},
   "outputs": [],
   "source": [
    "# sql_challenge BONUS\n",
    "# Import dependencies\n",
    "\n",
    "from sqlalchemy import create_engine\n",
    "from sqlalchemy.orm import Session\n",
    "import pandas as pd\n",
    "import matplotlib.pyplot as plt\n",
    "from numpy import array"
   ]
  },
  {
   "cell_type": "code",
   "execution_count": 6,
   "metadata": {},
   "outputs": [],
   "source": [
    "# Create engine/connection to database in order to query\n",
    "engine = create_engine('postgresql://localhost:5432/sql_challenge1')\n",
    "conn = engine.connect()\n",
    "\n",
    "session = Session(bind=engine)"
   ]
  },
  {
   "cell_type": "code",
   "execution_count": 7,
   "metadata": {},
   "outputs": [
    {
     "data": {
      "text/html": [
       "<div>\n",
       "<style scoped>\n",
       "    .dataframe tbody tr th:only-of-type {\n",
       "        vertical-align: middle;\n",
       "    }\n",
       "\n",
       "    .dataframe tbody tr th {\n",
       "        vertical-align: top;\n",
       "    }\n",
       "\n",
       "    .dataframe thead th {\n",
       "        text-align: right;\n",
       "    }\n",
       "</style>\n",
       "<table border=\"1\" class=\"dataframe\">\n",
       "  <thead>\n",
       "    <tr style=\"text-align: right;\">\n",
       "      <th></th>\n",
       "      <th>employee_no</th>\n",
       "      <th>emp_title_id</th>\n",
       "      <th>birth_date</th>\n",
       "      <th>first_name</th>\n",
       "      <th>last_name</th>\n",
       "      <th>sex</th>\n",
       "      <th>hire_date</th>\n",
       "    </tr>\n",
       "    <tr>\n",
       "      <th>id</th>\n",
       "      <th></th>\n",
       "      <th></th>\n",
       "      <th></th>\n",
       "      <th></th>\n",
       "      <th></th>\n",
       "      <th></th>\n",
       "      <th></th>\n",
       "    </tr>\n",
       "  </thead>\n",
       "  <tbody>\n",
       "    <tr>\n",
       "      <th>1</th>\n",
       "      <td>473302</td>\n",
       "      <td>s0001</td>\n",
       "      <td>1953-07-25</td>\n",
       "      <td>Hideyuki</td>\n",
       "      <td>Zallocco</td>\n",
       "      <td>M</td>\n",
       "      <td>1990-04-28</td>\n",
       "    </tr>\n",
       "    <tr>\n",
       "      <th>2</th>\n",
       "      <td>475053</td>\n",
       "      <td>e0002</td>\n",
       "      <td>1954-11-18</td>\n",
       "      <td>Byong</td>\n",
       "      <td>Delgrande</td>\n",
       "      <td>F</td>\n",
       "      <td>1991-09-07</td>\n",
       "    </tr>\n",
       "    <tr>\n",
       "      <th>3</th>\n",
       "      <td>57444</td>\n",
       "      <td>e0002</td>\n",
       "      <td>1958-01-30</td>\n",
       "      <td>Berry</td>\n",
       "      <td>Babb</td>\n",
       "      <td>F</td>\n",
       "      <td>1992-03-21</td>\n",
       "    </tr>\n",
       "    <tr>\n",
       "      <th>4</th>\n",
       "      <td>421786</td>\n",
       "      <td>s0001</td>\n",
       "      <td>1957-09-28</td>\n",
       "      <td>Xiong</td>\n",
       "      <td>Verhoeff</td>\n",
       "      <td>M</td>\n",
       "      <td>1987-11-26</td>\n",
       "    </tr>\n",
       "    <tr>\n",
       "      <th>5</th>\n",
       "      <td>282238</td>\n",
       "      <td>e0003</td>\n",
       "      <td>1952-10-28</td>\n",
       "      <td>Abdelkader</td>\n",
       "      <td>Baumann</td>\n",
       "      <td>F</td>\n",
       "      <td>1991-01-18</td>\n",
       "    </tr>\n",
       "    <tr>\n",
       "      <th>...</th>\n",
       "      <td>...</td>\n",
       "      <td>...</td>\n",
       "      <td>...</td>\n",
       "      <td>...</td>\n",
       "      <td>...</td>\n",
       "      <td>...</td>\n",
       "      <td>...</td>\n",
       "    </tr>\n",
       "    <tr>\n",
       "      <th>300020</th>\n",
       "      <td>464231</td>\n",
       "      <td>s0001</td>\n",
       "      <td>1958-08-14</td>\n",
       "      <td>Constantino</td>\n",
       "      <td>Eastman</td>\n",
       "      <td>M</td>\n",
       "      <td>1988-10-28</td>\n",
       "    </tr>\n",
       "    <tr>\n",
       "      <th>300021</th>\n",
       "      <td>255832</td>\n",
       "      <td>e0002</td>\n",
       "      <td>1955-05-08</td>\n",
       "      <td>Yuping</td>\n",
       "      <td>Dayang</td>\n",
       "      <td>F</td>\n",
       "      <td>1995-02-26</td>\n",
       "    </tr>\n",
       "    <tr>\n",
       "      <th>300022</th>\n",
       "      <td>76671</td>\n",
       "      <td>s0001</td>\n",
       "      <td>1959-06-09</td>\n",
       "      <td>Ortrud</td>\n",
       "      <td>Plessier</td>\n",
       "      <td>M</td>\n",
       "      <td>1988-02-24</td>\n",
       "    </tr>\n",
       "    <tr>\n",
       "      <th>300023</th>\n",
       "      <td>264920</td>\n",
       "      <td>s0001</td>\n",
       "      <td>1959-09-22</td>\n",
       "      <td>Percy</td>\n",
       "      <td>Samarati</td>\n",
       "      <td>F</td>\n",
       "      <td>1994-09-08</td>\n",
       "    </tr>\n",
       "    <tr>\n",
       "      <th>300024</th>\n",
       "      <td>464503</td>\n",
       "      <td>s0002</td>\n",
       "      <td>1964-05-31</td>\n",
       "      <td>Arvind</td>\n",
       "      <td>Slobodova</td>\n",
       "      <td>M</td>\n",
       "      <td>1987-11-23</td>\n",
       "    </tr>\n",
       "  </tbody>\n",
       "</table>\n",
       "<p>300024 rows × 7 columns</p>\n",
       "</div>"
      ],
      "text/plain": [
       "        employee_no emp_title_id  birth_date   first_name  last_name sex  \\\n",
       "id                                                                         \n",
       "1            473302        s0001  1953-07-25     Hideyuki   Zallocco   M   \n",
       "2            475053        e0002  1954-11-18        Byong  Delgrande   F   \n",
       "3             57444        e0002  1958-01-30        Berry       Babb   F   \n",
       "4            421786        s0001  1957-09-28        Xiong   Verhoeff   M   \n",
       "5            282238        e0003  1952-10-28   Abdelkader    Baumann   F   \n",
       "...             ...          ...         ...          ...        ...  ..   \n",
       "300020       464231        s0001  1958-08-14  Constantino    Eastman   M   \n",
       "300021       255832        e0002  1955-05-08       Yuping     Dayang   F   \n",
       "300022        76671        s0001  1959-06-09       Ortrud   Plessier   M   \n",
       "300023       264920        s0001  1959-09-22        Percy   Samarati   F   \n",
       "300024       464503        s0002  1964-05-31       Arvind  Slobodova   M   \n",
       "\n",
       "         hire_date  \n",
       "id                  \n",
       "1       1990-04-28  \n",
       "2       1991-09-07  \n",
       "3       1992-03-21  \n",
       "4       1987-11-26  \n",
       "5       1991-01-18  \n",
       "...            ...  \n",
       "300020  1988-10-28  \n",
       "300021  1995-02-26  \n",
       "300022  1988-02-24  \n",
       "300023  1994-09-08  \n",
       "300024  1987-11-23  \n",
       "\n",
       "[300024 rows x 7 columns]"
      ]
     },
     "execution_count": 7,
     "metadata": {},
     "output_type": "execute_result"
    }
   ],
   "source": [
    "# Create df for employees table from database\n",
    "employees_data = pd.read_sql(\"SELECT * FROM employees\", conn)\n",
    "employees_data = employees_data.set_index(\"id\")\n",
    "employees_data"
   ]
  },
  {
   "cell_type": "code",
   "execution_count": 8,
   "metadata": {},
   "outputs": [
    {
     "data": {
      "image/png": "[encoded data removed]",
      "text/plain": [
       "<Figure size 432x288 with 1 Axes>"
      ]
     },
     "metadata": {
      "needs_background": "light"
     },
     "output_type": "display_data"
    }
   ],
   "source": [
    "# Create df for employees table from database\n",
    "salary_data = pd.read_sql(\"SELECT * FROM salaries\", conn)\n",
    "salary_data.head()\n",
    "\n",
    "#Change column name emp_no -> employee_no\n",
    "salary_data = salary_data.rename(columns={\"emp_no\": \"employee_no\"})\n",
    "\n",
    "# Display histogram to show the most common salary ranges for employees\n",
    "fig1, ax = plt.subplots()\n",
    "plt.hist(salary_data['salary'])\n",
    "plt.title(\"Salary Ranges\")\n",
    "plt.xlabel(\"Number of Employees (people)\")\n",
    "plt.ylabel(\"Salary ($)\")\n",
    "plt.show()\n",
    "\n",
    "fig1.savefig('Graphs/salary_ranges.png', bbox_inches='tight')"
   ]
  },
  {
   "cell_type": "code",
   "execution_count": 9,
   "metadata": {},
   "outputs": [],
   "source": [
    "# Create df for titles table from database\n",
    "titles_data = pd.read_sql(\"SELECT * FROM titles\", conn)\n",
    "titles_data = titles_data\n",
    "titles_data = titles_data.rename(columns={\"title_id\": \"emp_title_id\"})\n",
    "#titles_data"
   ]
  },
  {
   "cell_type": "code",
   "execution_count": 10,
   "metadata": {},
   "outputs": [],
   "source": [
    "#salary_data.head()"
   ]
  },
  {
   "cell_type": "code",
   "execution_count": 11,
   "metadata": {},
   "outputs": [],
   "source": [
    "# First, merge salaries with employees on emp_no\n",
    "merge1 = pd.merge(employees_data, salary_data, on=\"employee_no\", how='inner')\n",
    "#merge1.set_index('id')"
   ]
  },
  {
   "cell_type": "code",
   "execution_count": 12,
   "metadata": {},
   "outputs": [],
   "source": [
    "# Second, merge merge1 with titles\n",
    "merge2 = pd.merge(merge1, titles_data, on=\"emp_title_id\", how='inner')\n",
    "#merge2"
   ]
  },
  {
   "cell_type": "code",
   "execution_count": 15,
   "metadata": {},
   "outputs": [
    {
     "data": {
      "image/png": "[encoded data removed]",
      "text/plain": [
       "<Figure size 432x288 with 1 Axes>"
      ]
     },
     "metadata": {
      "needs_background": "light"
     },
     "output_type": "display_data"
    }
   ],
   "source": [
    "# Create df to make bar chart\n",
    "title_salary = merge2[['salary', 'title']]\n",
    "\n",
    "avg_salary_titles = title_salary.groupby('title').mean().sort_values(by='salary',ascending=False)\n",
    "# .plot(kind='bar',legend=True)\n",
    "# fig2 = avg_salary_titles.plot.bar()\n",
    "\n",
    "#print(avg_salary_titles)\n",
    "\n",
    "# Change dataframe to list to graph\n",
    "avg_salary_titles = pd.DataFrame(avg_salary_titles)\n",
    "\n",
    "fig2, ax = plt.subplots()\n",
    "plt.bar(avg_salary_titles.index, avg_salary_titles['salary'])\n",
    "plt.title(\"Salary by Job Title\")\n",
    "plt.xticks(rotation='vertical')\n",
    "plt.xlabel(\"Job Titles\")\n",
    "plt.ylabel(\"Salary ($)\")\n",
    "plt.show()\n",
    "\n",
    "fig2.savefig('Graphs/salary_titles.png', bbox_inches='tight')"
   ]
  },
  {
   "cell_type": "code",
   "execution_count": 16,
   "metadata": {},
   "outputs": [
    {
     "data": {
      "text/html": [
       "<div>\n",
       "<style scoped>\n",
       "    .dataframe tbody tr th:only-of-type {\n",
       "        vertical-align: middle;\n",
       "    }\n",
       "\n",
       "    .dataframe tbody tr th {\n",
       "        vertical-align: top;\n",
       "    }\n",
       "\n",
       "    .dataframe thead th {\n",
       "        text-align: right;\n",
       "    }\n",
       "</style>\n",
       "<table border=\"1\" class=\"dataframe\">\n",
       "  <thead>\n",
       "    <tr style=\"text-align: right;\">\n",
       "      <th></th>\n",
       "      <th>employee_no</th>\n",
       "      <th>emp_title_id</th>\n",
       "      <th>birth_date</th>\n",
       "      <th>first_name</th>\n",
       "      <th>last_name</th>\n",
       "      <th>sex</th>\n",
       "      <th>hire_date</th>\n",
       "      <th>salary</th>\n",
       "      <th>title</th>\n",
       "    </tr>\n",
       "  </thead>\n",
       "  <tbody>\n",
       "    <tr>\n",
       "      <th>287532</th>\n",
       "      <td>499942</td>\n",
       "      <td>e0004</td>\n",
       "      <td>1963-01-10</td>\n",
       "      <td>April</td>\n",
       "      <td>Foolsday</td>\n",
       "      <td>F</td>\n",
       "      <td>1997-02-10</td>\n",
       "      <td>40000</td>\n",
       "      <td>Technique Leader</td>\n",
       "    </tr>\n",
       "  </tbody>\n",
       "</table>\n",
       "</div>"
      ],
      "text/plain": [
       "        employee_no emp_title_id  birth_date first_name last_name sex  \\\n",
       "287532       499942        e0004  1963-01-10      April  Foolsday   F   \n",
       "\n",
       "         hire_date  salary             title  \n",
       "287532  1997-02-10   40000  Technique Leader  "
      ]
     },
     "execution_count": 16,
     "metadata": {},
     "output_type": "execute_result"
    }
   ],
   "source": [
    "# Look up my employee name\n",
    "my_id = merge2.loc[merge2['employee_no'] == 499942]\n",
    "my_id"
   ]
  },
  {
   "cell_type": "code",
   "execution_count": null,
   "metadata": {},
   "outputs": [],
   "source": []
  },
  {
   "cell_type": "code",
   "execution_count": null,
   "metadata": {},
   "outputs": [],
   "source": []
  }
 ],
 "metadata": {
  "kernelspec": {
   "display_name": "Python 3",
   "language": "python",
   "name": "python3"
  },
  "language_info": {
   "codemirror_mode": {
    "name": "ipython",
    "version": 3
   },
   "file_extension": ".py",
   "mimetype": "text/x-python",
   "name": "python",
   "nbconvert_exporter": "python",
   "pygments_lexer": "ipython3",
   "version": "3.6.10"
  }
 },
 "nbformat": 4,
 "nbformat_minor": 4
}
